{
 "cells": [
  {
   "cell_type": "code",
   "execution_count": 15,
   "metadata": {},
   "outputs": [],
   "source": [
    "from ibm_watson import NaturalLanguageUnderstandingV1\n",
    "from ibm_watson.natural_language_understanding_v1 import Features, RelationsOptions\n",
    "import json \n",
    "from ibm_watson import ToneAnalyzerV3\n",
    "from ibm_cloud_sdk_core.authenticators import IAMAuthenticator\n",
    "from ibm_watson import ApiException"
   ]
  },
  {
   "cell_type": "code",
   "execution_count": 8,
   "metadata": {
    "scrolled": false
   },
   "outputs": [
    {
     "data": {
      "text/plain": [
       "{'apikey': 'sFFRiOBNke_vI-KwYVrdgSEEEL7RRKD988Jkia_wx_GI',\n",
       " 'url': 'https://gateway.watsonplatform.net/tone-analyzer/api/v3/tone?',\n",
       " 'version': '2017-09-21'}"
      ]
     },
     "execution_count": 8,
     "metadata": {},
     "output_type": "execute_result"
    }
   ],
   "source": [
    "with open(\"config.json\", 'r') as f:\n",
    "        config = json.load(f)\n",
    "\n",
    "config[\"tone_analyzer\"]"
   ]
  },
  {
   "cell_type": "code",
   "execution_count": 9,
   "metadata": {},
   "outputs": [],
   "source": [
    "## Temporarily bypass the IAM login for now \n",
    "keyedAuthenticator = IAMAuthenticator(config[\"tone_analyzer\"][\"apikey\"])\n",
    "version = config[\"tone_analyzer\"][\"version\"]\n",
    "\n",
    "## Create Tone Analyzer instance with API key\n",
    "tone_analyzer = ToneAnalyzerV3(\n",
    "    version= f'{version}',\n",
    "    authenticator = keyedAuthenticator\n",
    ")\n",
    "\n",
    "# tone_analyzer.set_url(url)\n",
    "\n",
    "\n",
    "\n",
    "\n"
   ]
  },
  {
   "cell_type": "code",
   "execution_count": 10,
   "metadata": {},
   "outputs": [],
   "source": [
    "## Takes in some string text and\n",
    "## make call to IBM Watson Tone Analyzer with the inputted text\n",
    "## Returns a tuple of 3 outputs directly from the api call\n",
    "## 1. document_tone and sentence_tone\n",
    "##    - document tone is a json string that includes the tones that have over .5/1 tone_scores\n",
    "##    - sentence_tone is a json string that tone analyzes each sentence from the `inputtedTxt`\n",
    "## 2. headers is metadata\n",
    "##    - most important is timestamp of api call(can be linked to when question is asked)\n",
    "## 3. Status code over HTTP\n",
    "def sentiment_vector(inputtedTxt):\n",
    "        \n",
    "    try:\n",
    "        # Invoke a Tone Analyzer method\n",
    "#         inputtedTxt = \"Team, I know that times are tough! \"\n",
    "        j = tone_analyzer.tone({'text': inputtedTxt}, content_type='application/json')\n",
    "        return j.get_result(), j.get_headers(), j.get_status_code()\n",
    "    except ApiException as ex:\n",
    "        print(\"Method failed with status code \" + str(ex.code) + \": \" + ex.message)\n",
    "        raise ex\n"
   ]
  },
  {
   "cell_type": "code",
   "execution_count": 11,
   "metadata": {},
   "outputs": [],
   "source": [
    "## TestING STRING!\n",
    "## CALL THIS CELL CONSERVATIVELY\n",
    "test_str = '''If you are seeking liberation, my son, avoid the objects of the senses like poison and cultivate tolerance, sincerity, compassion, contentment, and truthfulness as the antidote? 1.2\n",
    "\n",
    "You do not consist of any of the elements — earth, water, fire, air, or even ether. To be liberated, know yourself as consisting of consciousness, the witness of these. 1.3\n",
    "\n",
    "If only you will remain resting in consciousness, seeing yourself as distinct from the body, then even now you will become happy, peaceful and free from bonds. 1.4\n",
    "\n",
    "You do not belong to the brahmin or any other caste, you are not at any stage, nor are you anything that the eye can see. You are unattached and formless, the witness of everything — so be happy. 1.5\n",
    "\n",
    "Righteousness and unrighteousness, pleasure and pain are purely of the mind and are no concern of yours. You are neither the doer nor the reaper of the consequences, so you are always free. 1.6\n",
    "\n",
    "You are the one witness of everything and are always completely free. The cause of your bondage is that you see the witness as something other than this. 1.7\n",
    "\n",
    "Since you have been bitten by the black snake, the opinion about yourself that “I am the doer,” drink the antidote of faith in the fact that “I am not the doer,” and be happy. 1.8\n",
    "\n",
    "Burn down the forest of ignorance with the fire of the understanding that “I am the one pure awareness,” and be happy and free from distress. 1.9 '''\n",
    "\n",
    "\n",
    "\n",
    "ret_res, ret_header, ret_code = sentiment_vector(test_str)\n",
    "# sentiment_vector(test_str)\n",
    "\n"
   ]
  },
  {
   "cell_type": "code",
   "execution_count": 12,
   "metadata": {},
   "outputs": [
    {
     "name": "stdout",
     "output_type": "stream",
     "text": [
      "{'document_tone': {'tones': [{'score': 0.557637,\n",
      "                              'tone_id': 'sadness',\n",
      "                              'tone_name': 'Sadness'},\n",
      "                             {'score': 0.62881,\n",
      "                              'tone_id': 'joy',\n",
      "                              'tone_name': 'Joy'},\n",
      "                             {'score': 0.564476,\n",
      "                              'tone_id': 'analytical',\n",
      "                              'tone_name': 'Analytical'},\n",
      "                             {'score': 0.736183,\n",
      "                              'tone_id': 'tentative',\n",
      "                              'tone_name': 'Tentative'}]},\n",
      " 'sentences_tone': [{'sentence_id': 0,\n",
      "                     'text': 'If you are seeking liberation, my son, avoid the '\n",
      "                             'objects of the senses like poison and cultivate '\n",
      "                             'tolerance, sincerity, compassion, contentment, '\n",
      "                             'and truthfulness as the antidote?',\n",
      "                     'tones': []},\n",
      "                    {'sentence_id': 1, 'text': '1.2', 'tones': []},\n",
      "                    {'sentence_id': 2,\n",
      "                     'text': 'You do not consist of any of the elements — '\n",
      "                             'earth, water, fire, air, or even ether.',\n",
      "                     'tones': [{'score': 0.961411,\n",
      "                                'tone_id': 'tentative',\n",
      "                                'tone_name': 'Tentative'}]},\n",
      "                    {'sentence_id': 3,\n",
      "                     'text': 'To be liberated, know yourself as consisting of '\n",
      "                             'consciousness, the witness of these.',\n",
      "                     'tones': [{'score': 0.821913,\n",
      "                                'tone_id': 'analytical',\n",
      "                                'tone_name': 'Analytical'}]},\n",
      "                    {'sentence_id': 4, 'text': '1.3', 'tones': []},\n",
      "                    {'sentence_id': 5, 'text': '', 'tones': []},\n",
      "                    {'sentence_id': 6,\n",
      "                     'text': 'If only you will remain resting in '\n",
      "                             'consciousness, seeing yourself as distinct from '\n",
      "                             'the body, then even now you will become happy, '\n",
      "                             'peaceful and free from bonds.',\n",
      "                     'tones': [{'score': 0.86044,\n",
      "                                'tone_id': 'joy',\n",
      "                                'tone_name': 'Joy'},\n",
      "                               {'score': 0.724236,\n",
      "                                'tone_id': 'analytical',\n",
      "                                'tone_name': 'Analytical'}]},\n",
      "                    {'sentence_id': 7, 'text': '1.4', 'tones': []},\n",
      "                    {'sentence_id': 8,\n",
      "                     'text': 'You do not belong to the brahmin or any other '\n",
      "                             'caste, you are not at any stage, nor are you '\n",
      "                             'anything that the eye can see.',\n",
      "                     'tones': [{'score': 0.933436,\n",
      "                                'tone_id': 'tentative',\n",
      "                                'tone_name': 'Tentative'}]},\n",
      "                    {'sentence_id': 9,\n",
      "                     'text': 'You are unattached and formless, the witness of '\n",
      "                             'everything — so be happy.',\n",
      "                     'tones': [{'score': 0.924551,\n",
      "                                'tone_id': 'joy',\n",
      "                                'tone_name': 'Joy'}]},\n",
      "                    {'sentence_id': 10, 'text': '1.5', 'tones': []},\n",
      "                    {'sentence_id': 11, 'text': '', 'tones': []},\n",
      "                    {'sentence_id': 12,\n",
      "                     'text': 'Righteousness and unrighteousness, pleasure and '\n",
      "                             'pain are purely of the mind and are no concern '\n",
      "                             'of yours.',\n",
      "                     'tones': [{'score': 0.707645,\n",
      "                                'tone_id': 'sadness',\n",
      "                                'tone_name': 'Sadness'},\n",
      "                               {'score': 0.6821,\n",
      "                                'tone_id': 'confident',\n",
      "                                'tone_name': 'Confident'}]},\n",
      "                    {'sentence_id': 13,\n",
      "                     'text': 'You are neither the doer nor the reaper of the '\n",
      "                             'consequences, so you are always free.',\n",
      "                     'tones': [{'score': 0.762356,\n",
      "                                'tone_id': 'analytical',\n",
      "                                'tone_name': 'Analytical'}]},\n",
      "                    {'sentence_id': 14, 'text': '1.6', 'tones': []},\n",
      "                    {'sentence_id': 15,\n",
      "                     'text': 'You are the one witness of everything and are '\n",
      "                             'always completely free.',\n",
      "                     'tones': []},\n",
      "                    {'sentence_id': 16,\n",
      "                     'text': 'The cause of your bondage is that you see the '\n",
      "                             'witness as something other than this.',\n",
      "                     'tones': [{'score': 0.506763,\n",
      "                                'tone_id': 'analytical',\n",
      "                                'tone_name': 'Analytical'},\n",
      "                               {'score': 0.615352,\n",
      "                                'tone_id': 'tentative',\n",
      "                                'tone_name': 'Tentative'}]},\n",
      "                    {'sentence_id': 17, 'text': '1.7', 'tones': []},\n",
      "                    {'sentence_id': 18, 'text': '', 'tones': []},\n",
      "                    {'sentence_id': 19,\n",
      "                     'text': 'Since you have been bitten by the black snake, '\n",
      "                             'the opinion about yourself that “I am the doer,” '\n",
      "                             'drink the antidote of faith in the fact that “I '\n",
      "                             'am not the doer,” and be happy.',\n",
      "                     'tones': [{'score': 0.599441,\n",
      "                                'tone_id': 'joy',\n",
      "                                'tone_name': 'Joy'}]},\n",
      "                    {'sentence_id': 20, 'text': '1.8', 'tones': []},\n",
      "                    {'sentence_id': 21, 'text': '', 'tones': []},\n",
      "                    {'sentence_id': 22,\n",
      "                     'text': 'Burn down the forest of ignorance with the fire '\n",
      "                             'of the understanding that “I am the one pure '\n",
      "                             'awareness,” and be happy and free from distress.',\n",
      "                     'tones': [{'score': 0.61791,\n",
      "                                'tone_id': 'joy',\n",
      "                                'tone_name': 'Joy'}]},\n",
      "                    {'sentence_id': 23, 'text': '1.9', 'tones': []}]}\n"
     ]
    }
   ],
   "source": [
    "from pprint import pprint\n",
    "## See result of the api call instead of rerunning it thousands of times....\n",
    "pprint(ret_res)\n",
    "\n"
   ]
  },
  {
   "cell_type": "code",
   "execution_count": 13,
   "metadata": {},
   "outputs": [
    {
     "data": {
      "text/plain": [
       "'Mon, 07 Oct 2019 10:11:21 GMT'"
      ]
     },
     "execution_count": 13,
     "metadata": {},
     "output_type": "execute_result"
    }
   ],
   "source": [
    "ret_header\n",
    "timestamp = ret_header['Date']\n",
    "timestamp"
   ]
  },
  {
   "cell_type": "code",
   "execution_count": 14,
   "metadata": {},
   "outputs": [
    {
     "data": {
      "text/plain": [
       "200"
      ]
     },
     "execution_count": 14,
     "metadata": {},
     "output_type": "execute_result"
    }
   ],
   "source": [
    "ret_code"
   ]
  },
  {
   "cell_type": "code",
   "execution_count": 33,
   "metadata": {},
   "outputs": [],
   "source": [
    "## Default sentiment vector of all possible emotions returned from IBM Watson Tone Analyzer \n",
    "## THIS IS TEMPLATE\n",
    "sentiment_vector_zeroed = {\"anger\": 0.0, \"fear\":0.0, \"joy\":0.0, \"sadness\":0.0, \"snalytical\":0.0, \"sonfident\":0.0, \"sentative\":0.0}\n",
    "\n"
   ]
  },
  {
   "cell_type": "code",
   "execution_count": 34,
   "metadata": {},
   "outputs": [
    {
     "data": {
      "text/plain": [
       "{'anger': 0.0,\n",
       " 'fear': 0.0,\n",
       " 'joy': 0.62881,\n",
       " 'sadness': 0.557637,\n",
       " 'snalytical': 0.0,\n",
       " 'sonfident': 0.0,\n",
       " 'sentative': 0.0,\n",
       " 'tentative': 0.736183,\n",
       " 'analytical': 0.564476}"
      ]
     },
     "execution_count": 34,
     "metadata": {},
     "output_type": "execute_result"
    }
   ],
   "source": [
    "# ret_res['document_tone']['tones']\n",
    "## Create (tone, score) pairs from ret_res\n",
    "sents = [(tone['tone_id'], tone['score']) for tone in ret_res['document_tone']['tones']]\n",
    "\n",
    "## Create copy of sentiment_vector_zeroed to have zeroed values\n",
    "# for each of the sentiments found from Tone Analyzer, set the corresponding value into our sentiment vector\n",
    "sents_vector = sentiment_vector_zeroed\n",
    "for tone in sents:\n",
    "    tone_id = tone[0]\n",
    "    tone_score = float(tone[1])\n",
    "    sents_vector[tone_id] = tone_score\n",
    "    \n",
    "sents_vector"
   ]
  },
  {
   "cell_type": "code",
   "execution_count": 22,
   "metadata": {},
   "outputs": [
    {
     "name": "stderr",
     "output_type": "stream",
     "text": [
      "ERROR:root:no features specified\n",
      "Traceback (most recent call last):\n",
      "  File \"C:\\ProgramData\\Anaconda3\\lib\\site-packages\\ibm_cloud_sdk_core\\base_service.py\", line 157, in send\n",
      "    response.status_code, error_message, http_response=response)\n",
      "ibm_cloud_sdk_core.api_exception.ApiException: Error: no features specified, Code: 400 , X-global-transaction-id: ffea405d5d9b123b25499265\n"
     ]
    },
    {
     "ename": "ApiException",
     "evalue": "Error: no features specified, Code: 400 , X-global-transaction-id: ffea405d5d9b123b25499265",
     "output_type": "error",
     "traceback": [
      "\u001b[1;31m---------------------------------------------------------------------------\u001b[0m",
      "\u001b[1;31mApiException\u001b[0m                              Traceback (most recent call last)",
      "\u001b[1;32m<ipython-input-22-67454850ac79>\u001b[0m in \u001b[0;36m<module>\u001b[1;34m()\u001b[0m\n\u001b[0;32m      7\u001b[0m \u001b[1;33m\u001b[0m\u001b[0m\n\u001b[0;32m      8\u001b[0m response = natural_language_understanding.analyze(\n\u001b[1;32m----> 9\u001b[1;33m     text='Leonardo DiCaprio won Best Actor in a Leading Role for his performance.', features=Features())\n\u001b[0m",
      "\u001b[1;32mC:\\ProgramData\\Anaconda3\\lib\\site-packages\\ibm_watson\\natural_language_understanding_v1.py\u001b[0m in \u001b[0;36manalyze\u001b[1;34m(self, features, text, html, url, clean, xpath, fallback_to_raw, return_analyzed_text, language, limit_text_characters, **kwargs)\u001b[0m\n\u001b[0;32m    184\u001b[0m                                        \u001b[0mdata\u001b[0m\u001b[1;33m=\u001b[0m\u001b[0mdata\u001b[0m\u001b[1;33m,\u001b[0m\u001b[1;33m\u001b[0m\u001b[0m\n\u001b[0;32m    185\u001b[0m                                        accept_json=True)\n\u001b[1;32m--> 186\u001b[1;33m         \u001b[0mresponse\u001b[0m \u001b[1;33m=\u001b[0m \u001b[0mself\u001b[0m\u001b[1;33m.\u001b[0m\u001b[0msend\u001b[0m\u001b[1;33m(\u001b[0m\u001b[0mrequest\u001b[0m\u001b[1;33m)\u001b[0m\u001b[1;33m\u001b[0m\u001b[0m\n\u001b[0m\u001b[0;32m    187\u001b[0m         \u001b[1;32mreturn\u001b[0m \u001b[0mresponse\u001b[0m\u001b[1;33m\u001b[0m\u001b[0m\n\u001b[0;32m    188\u001b[0m \u001b[1;33m\u001b[0m\u001b[0m\n",
      "\u001b[1;32mC:\\ProgramData\\Anaconda3\\lib\\site-packages\\ibm_cloud_sdk_core\\base_service.py\u001b[0m in \u001b[0;36msend\u001b[1;34m(self, request, **kwargs)\u001b[0m\n\u001b[0;32m    155\u001b[0m                                     \u001b[1;34m'invalid credentials'\u001b[0m\u001b[1;33m\u001b[0m\u001b[0m\n\u001b[0;32m    156\u001b[0m                 raise ApiException(\n\u001b[1;32m--> 157\u001b[1;33m                     response.status_code, error_message, http_response=response)\n\u001b[0m\u001b[0;32m    158\u001b[0m         \u001b[1;32mexcept\u001b[0m \u001b[0mrequests\u001b[0m\u001b[1;33m.\u001b[0m\u001b[0mexceptions\u001b[0m\u001b[1;33m.\u001b[0m\u001b[0mSSLError\u001b[0m\u001b[1;33m:\u001b[0m\u001b[1;33m\u001b[0m\u001b[0m\n\u001b[0;32m    159\u001b[0m             \u001b[0mlogging\u001b[0m\u001b[1;33m.\u001b[0m\u001b[0mexception\u001b[0m\u001b[1;33m(\u001b[0m\u001b[0mself\u001b[0m\u001b[1;33m.\u001b[0m\u001b[0mERROR_MSG_DISABLE_SSL\u001b[0m\u001b[1;33m)\u001b[0m\u001b[1;33m\u001b[0m\u001b[0m\n",
      "\u001b[1;31mApiException\u001b[0m: Error: no features specified, Code: 400 , X-global-transaction-id: ffea405d5d9b123b25499265"
     ]
    }
   ],
   "source": [
    "keyedAuthenticator = IAMAuthenticator(config[\"natural_language_understanding\"][\"apikey\"])\n",
    "\n",
    "nlu = NaturalLanguageUnderstandingV1(\n",
    "    version='2019-07-12',\n",
    "    authenticator= keyedAuthenticator\n",
    ")\n",
    "\n",
    "response = nlu.analyze(\n",
    "    text='Leonardo DiCaprio won Best Actor in a Leading Role for his performance.', features=Features(\n",
    "        syntax=SyntaxOptions(sentences=True, tokens=SyntaxOptionsTokens(lemma=True, part_of_speech=True,)), \n",
    "        \n",
    "    )"
   ]
  },
  {
   "cell_type": "code",
   "execution_count": null,
   "metadata": {},
   "outputs": [],
   "source": []
  },
  {
   "cell_type": "code",
   "execution_count": null,
   "metadata": {},
   "outputs": [],
   "source": []
  },
  {
   "cell_type": "code",
   "execution_count": null,
   "metadata": {},
   "outputs": [],
   "source": []
  },
  {
   "cell_type": "markdown",
   "metadata": {},
   "source": [
    "## Notes to deal with for later:\n",
    "Tabs Opened:\n",
    "* https://cloud.ibm.com/apidocs/tone-analyzer?code=python\n",
    "* https://github.com/watson-developer-cloud/python-sdk#iam\n",
    "* https://dataplatform.cloud.ibm.com/docs/content/wsj/streaming-pipelines/installing_Python_libs.html\n",
    "* https://codeburst.io/getting-started-with-ibm-watson-tone-analyzer-3aa3386cff15\n",
    "* https://github.com/sahirnoorali/ibm-tone-analyzer-python/blob/master/ToneAnalyzer.py\n",
    "* https://dataplatform.cloud.ibm.com/docs/content/wsj/analyze-data/load-and-access-data.html\n",
    "\n",
    "## Next Steps after 10/6/2019 11:00pm: \n",
    "Convert resulting Watson api call from json to sentiment vector, zeroing out emotion values when not given.\n",
    "Stick sentiment vector into ML model(Consider what would be the best)\n",
    "\n",
    "Other things to keep in mind: \n",
    "* timestamp of api call\n",
    "* input string\n",
    "* resulting api call"
   ]
  },
  {
   "cell_type": "code",
   "execution_count": null,
   "metadata": {},
   "outputs": [],
   "source": []
  }
 ],
 "metadata": {
  "kernelspec": {
   "display_name": "Python 3",
   "language": "python",
   "name": "python3"
  },
  "language_info": {
   "codemirror_mode": {
    "name": "ipython",
    "version": 3
   },
   "file_extension": ".py",
   "mimetype": "text/x-python",
   "name": "python",
   "nbconvert_exporter": "python",
   "pygments_lexer": "ipython3",
   "version": "3.6.4"
  }
 },
 "nbformat": 4,
 "nbformat_minor": 2
}
