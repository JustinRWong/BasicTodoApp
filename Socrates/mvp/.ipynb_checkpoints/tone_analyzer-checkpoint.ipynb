{
 "cells": [
  {
   "cell_type": "code",
   "execution_count": 8,
   "metadata": {
    "scrolled": true
   },
   "outputs": [
    {
     "name": "stdout",
     "output_type": "stream",
     "text": [
      "Collecting urlib2\n",
      "\u001b[31m  ERROR: Could not find a version that satisfies the requirement urlib2 (from versions: none)\u001b[0m\n",
      "\u001b[31mERROR: No matching distribution found for urlib2\u001b[0m\n",
      "\u001b[33mWARNING: You are using pip version 19.1, however version 19.2.3 is available.\n",
      "You should consider upgrading via the 'pip install --upgrade pip' command.\u001b[0m\n"
     ]
    }
   ],
   "source": [
    "!pip3 install urlib2"
   ]
  },
  {
   "cell_type": "code",
   "execution_count": 2,
   "metadata": {},
   "outputs": [],
   "source": [
    "import json \n",
    "from ibm_watson import ToneAnalyzerV3\n",
    "from ibm_cloud_sdk_core.authenticators import IAMAuthenticator\n",
    "from ibm_watson import ApiException\n",
    "\n",
    "## API keys for the IBM Tone Anaylzer Calls\n",
    "apikey = \"sFFRiOBNke_vI-KwYVrdgSEEEL7RRKD988Jkia_wx_GI\"\n",
    "url = 'https://gateway.watsonplatform.net/tone-analyzer/api/v3/tone?'\n",
    "version = \"2017-09-21\"\n",
    "\n",
    "## Temporarily bypass the IAM login for now \n",
    "keyedAuthenticator = IAMAuthenticator(apikey)\n",
    "\n",
    "## Create Tone Analyzer instance with API key\n",
    "tone_analyzer = ToneAnalyzerV3(\n",
    "    version= f'{version}',\n",
    "    authenticator = keyedAuthenticator\n",
    ")\n",
    "\n",
    "# tone_analyzer.set_url(url)\n",
    "\n",
    "\n",
    "\n",
    "\n"
   ]
  },
  {
   "cell_type": "code",
   "execution_count": 35,
   "metadata": {},
   "outputs": [],
   "source": [
    "\n",
    "\n",
    "## Takes in some string text and\n",
    "## make call to IBM Watson Tone Analyzer with the inputted text\n",
    "## Returns a tuple of 3 outputs directly from the api call\n",
    "## 1. document_tone and sentence_tone\n",
    "##    - document tone is a json string that includes the tones that have over .5/1 tone_scores\n",
    "##    - sentence_tone is a json string that tone analyzes each sentence from the `inputtedTxt`\n",
    "## 2. headers is metadata\n",
    "##    - most important is timestamp of api call(can be linked to when question is asked)\n",
    "## 3. Status code over HTTP\n",
    "def sentiment_vector(inputtedTxt):\n",
    "        \n",
    "    try:\n",
    "        # Invoke a Tone Analyzer method\n",
    "#         inputtedTxt = \"Team, I know that times are tough! \"\n",
    "        j = tone_analyzer.tone({'text': inputtedTxt}, content_type='application/json')\n",
    "        return j.get_result(), j.get_headers(), j.get_status_code()\n",
    "    except ApiException as ex:\n",
    "        print(\"Method failed with status code \" + str(ex.code) + \": \" + ex.message)\n",
    "        raise ex\n"
   ]
  },
  {
   "cell_type": "code",
   "execution_count": 29,
   "metadata": {},
   "outputs": [],
   "source": [
    "## TestING STRING!\n",
    "## CALL THIS CELL CONSERVATIVELY\n",
    "test_str = '''If you are seeking liberation, my son, avoid the objects of the senses like poison and cultivate tolerance, sincerity, compassion, contentment, and truthfulness as the antidote? 1.2\n",
    "\n",
    "You do not consist of any of the elements — earth, water, fire, air, or even ether. To be liberated, know yourself as consisting of consciousness, the witness of these. 1.3\n",
    "\n",
    "If only you will remain resting in consciousness, seeing yourself as distinct from the body, then even now you will become happy, peaceful and free from bonds. 1.4\n",
    "\n",
    "You do not belong to the brahmin or any other caste, you are not at any stage, nor are you anything that the eye can see. You are unattached and formless, the witness of everything — so be happy. 1.5\n",
    "\n",
    "Righteousness and unrighteousness, pleasure and pain are purely of the mind and are no concern of yours. You are neither the doer nor the reaper of the consequences, so you are always free. 1.6\n",
    "\n",
    "You are the one witness of everything and are always completely free. The cause of your bondage is that you see the witness as something other than this. 1.7\n",
    "\n",
    "Since you have been bitten by the black snake, the opinion about yourself that “I am the doer,” drink the antidote of faith in the fact that “I am not the doer,” and be happy. 1.8\n",
    "\n",
    "Burn down the forest of ignorance with the fire of the understanding that “I am the one pure awareness,” and be happy and free from distress. 1.9 '''\n",
    "\n",
    "\n",
    "\n",
    "ret_res, ret_header, ret_code = sentiment_vector(test_str)\n",
    "# sentiment_vector(test_str)\n",
    "\n"
   ]
  },
  {
   "cell_type": "code",
   "execution_count": 30,
   "metadata": {},
   "outputs": [
    {
     "name": "stdout",
     "output_type": "stream",
     "text": [
      "{'document_tone': {'tones': [{'score': 0.557637,\n",
      "                              'tone_id': 'sadness',\n",
      "                              'tone_name': 'Sadness'},\n",
      "                             {'score': 0.62881,\n",
      "                              'tone_id': 'joy',\n",
      "                              'tone_name': 'Joy'},\n",
      "                             {'score': 0.736183,\n",
      "                              'tone_id': 'tentative',\n",
      "                              'tone_name': 'Tentative'},\n",
      "                             {'score': 0.564476,\n",
      "                              'tone_id': 'analytical',\n",
      "                              'tone_name': 'Analytical'}]},\n",
      " 'sentences_tone': [{'sentence_id': 0,\n",
      "                     'text': 'If you are seeking liberation, my son, avoid the '\n",
      "                             'objects of the senses like poison and cultivate '\n",
      "                             'tolerance, sincerity, compassion, contentment, '\n",
      "                             'and truthfulness as the antidote?',\n",
      "                     'tones': []},\n",
      "                    {'sentence_id': 1, 'text': '1.2', 'tones': []},\n",
      "                    {'sentence_id': 2,\n",
      "                     'text': 'You do not consist of any of the elements — '\n",
      "                             'earth, water, fire, air, or even ether.',\n",
      "                     'tones': [{'score': 0.961411,\n",
      "                                'tone_id': 'tentative',\n",
      "                                'tone_name': 'Tentative'}]},\n",
      "                    {'sentence_id': 3,\n",
      "                     'text': 'To be liberated, know yourself as consisting of '\n",
      "                             'consciousness, the witness of these.',\n",
      "                     'tones': [{'score': 0.821913,\n",
      "                                'tone_id': 'analytical',\n",
      "                                'tone_name': 'Analytical'}]},\n",
      "                    {'sentence_id': 4, 'text': '1.3', 'tones': []},\n",
      "                    {'sentence_id': 5, 'text': '', 'tones': []},\n",
      "                    {'sentence_id': 6,\n",
      "                     'text': 'If only you will remain resting in '\n",
      "                             'consciousness, seeing yourself as distinct from '\n",
      "                             'the body, then even now you will become happy, '\n",
      "                             'peaceful and free from bonds.',\n",
      "                     'tones': [{'score': 0.86044,\n",
      "                                'tone_id': 'joy',\n",
      "                                'tone_name': 'Joy'},\n",
      "                               {'score': 0.724236,\n",
      "                                'tone_id': 'analytical',\n",
      "                                'tone_name': 'Analytical'}]},\n",
      "                    {'sentence_id': 7, 'text': '1.4', 'tones': []},\n",
      "                    {'sentence_id': 8,\n",
      "                     'text': 'You do not belong to the brahmin or any other '\n",
      "                             'caste, you are not at any stage, nor are you '\n",
      "                             'anything that the eye can see.',\n",
      "                     'tones': [{'score': 0.933436,\n",
      "                                'tone_id': 'tentative',\n",
      "                                'tone_name': 'Tentative'}]},\n",
      "                    {'sentence_id': 9,\n",
      "                     'text': 'You are unattached and formless, the witness of '\n",
      "                             'everything — so be happy.',\n",
      "                     'tones': [{'score': 0.924551,\n",
      "                                'tone_id': 'joy',\n",
      "                                'tone_name': 'Joy'}]},\n",
      "                    {'sentence_id': 10, 'text': '1.5', 'tones': []},\n",
      "                    {'sentence_id': 11, 'text': '', 'tones': []},\n",
      "                    {'sentence_id': 12,\n",
      "                     'text': 'Righteousness and unrighteousness, pleasure and '\n",
      "                             'pain are purely of the mind and are no concern '\n",
      "                             'of yours.',\n",
      "                     'tones': [{'score': 0.707645,\n",
      "                                'tone_id': 'sadness',\n",
      "                                'tone_name': 'Sadness'},\n",
      "                               {'score': 0.6821,\n",
      "                                'tone_id': 'confident',\n",
      "                                'tone_name': 'Confident'}]},\n",
      "                    {'sentence_id': 13,\n",
      "                     'text': 'You are neither the doer nor the reaper of the '\n",
      "                             'consequences, so you are always free.',\n",
      "                     'tones': [{'score': 0.762356,\n",
      "                                'tone_id': 'analytical',\n",
      "                                'tone_name': 'Analytical'}]},\n",
      "                    {'sentence_id': 14, 'text': '1.6', 'tones': []},\n",
      "                    {'sentence_id': 15,\n",
      "                     'text': 'You are the one witness of everything and are '\n",
      "                             'always completely free.',\n",
      "                     'tones': []},\n",
      "                    {'sentence_id': 16,\n",
      "                     'text': 'The cause of your bondage is that you see the '\n",
      "                             'witness as something other than this.',\n",
      "                     'tones': [{'score': 0.615352,\n",
      "                                'tone_id': 'tentative',\n",
      "                                'tone_name': 'Tentative'},\n",
      "                               {'score': 0.506763,\n",
      "                                'tone_id': 'analytical',\n",
      "                                'tone_name': 'Analytical'}]},\n",
      "                    {'sentence_id': 17, 'text': '1.7', 'tones': []},\n",
      "                    {'sentence_id': 18, 'text': '', 'tones': []},\n",
      "                    {'sentence_id': 19,\n",
      "                     'text': 'Since you have been bitten by the black snake, '\n",
      "                             'the opinion about yourself that “I am the doer,” '\n",
      "                             'drink the antidote of faith in the fact that “I '\n",
      "                             'am not the doer,” and be happy.',\n",
      "                     'tones': [{'score': 0.599441,\n",
      "                                'tone_id': 'joy',\n",
      "                                'tone_name': 'Joy'}]},\n",
      "                    {'sentence_id': 20, 'text': '1.8', 'tones': []},\n",
      "                    {'sentence_id': 21, 'text': '', 'tones': []},\n",
      "                    {'sentence_id': 22,\n",
      "                     'text': 'Burn down the forest of ignorance with the fire '\n",
      "                             'of the understanding that “I am the one pure '\n",
      "                             'awareness,” and be happy and free from distress.',\n",
      "                     'tones': [{'score': 0.61791,\n",
      "                                'tone_id': 'joy',\n",
      "                                'tone_name': 'Joy'}]},\n",
      "                    {'sentence_id': 23, 'text': '1.9', 'tones': []}]}\n"
     ]
    }
   ],
   "source": [
    "from pprint import pprint\n",
    "## See result of the api call instead of rerunning it thousands of times....\n",
    "pprint(ret_res)\n",
    "\n"
   ]
  },
  {
   "cell_type": "code",
   "execution_count": 31,
   "metadata": {},
   "outputs": [
    {
     "data": {
      "text/plain": [
       "'Mon, 07 Oct 2019 05:46:29 GMT'"
      ]
     },
     "execution_count": 31,
     "metadata": {},
     "output_type": "execute_result"
    }
   ],
   "source": [
    "ret_header\n",
    "timestamp = ret_header['Date']\n",
    "timestamp"
   ]
  },
  {
   "cell_type": "code",
   "execution_count": 32,
   "metadata": {},
   "outputs": [
    {
     "data": {
      "text/plain": [
       "200"
      ]
     },
     "execution_count": 32,
     "metadata": {},
     "output_type": "execute_result"
    }
   ],
   "source": [
    "ret_code"
   ]
  },
  {
   "cell_type": "code",
   "execution_count": 33,
   "metadata": {},
   "outputs": [],
   "source": [
    "## Default sentiment vector of all possible emotions returned from IBM Watson Tone Analyzer \n",
    "## THIS IS TEMPLATE\n",
    "sentiment_vector_zeroed = {\"anger\": 0.0, \"fear\":0.0, \"joy\":0.0, \"sadness\":0.0, \"snalytical\":0.0, \"sonfident\":0.0, \"sentative\":0.0}\n",
    "\n"
   ]
  },
  {
   "cell_type": "markdown",
   "metadata": {},
   "source": [
    "Notes to deal with for later:\n",
    "Tabs Opened:\n",
    "* https://cloud.ibm.com/apidocs/tone-analyzer?code=python\n",
    "* https://github.com/watson-developer-cloud/python-sdk#iam\n",
    "* https://dataplatform.cloud.ibm.com/docs/content/wsj/streaming-pipelines/installing_Python_libs.html\n",
    "* https://codeburst.io/getting-started-with-ibm-watson-tone-analyzer-3aa3386cff15\n",
    "* https://github.com/sahirnoorali/ibm-tone-analyzer-python/blob/master/ToneAnalyzer.py\n",
    "* https://dataplatform.cloud.ibm.com/docs/content/wsj/analyze-data/load-and-access-data.html\n",
    "\n",
    "Next Steps: \n",
    "Convert resulting Watson api call from json to sentiment vector, zeroing out emotion values when not given.\n",
    "Stick sentiment vector into ML model(Consider what would be the best)\n",
    "\n",
    "Other things to keep in mind: \n",
    "* timestamp of api call\n",
    "* input string\n",
    "* resulting api call"
   ]
  },
  {
   "cell_type": "code",
   "execution_count": 34,
   "metadata": {},
   "outputs": [
    {
     "data": {
      "text/plain": [
       "{'anger': 0.0,\n",
       " 'fear': 0.0,\n",
       " 'joy': 0.62881,\n",
       " 'sadness': 0.557637,\n",
       " 'snalytical': 0.0,\n",
       " 'sonfident': 0.0,\n",
       " 'sentative': 0.0,\n",
       " 'tentative': 0.736183,\n",
       " 'analytical': 0.564476}"
      ]
     },
     "execution_count": 34,
     "metadata": {},
     "output_type": "execute_result"
    }
   ],
   "source": [
    "# ret_res['document_tone']['tones']\n",
    "## Create (tone, score) pairs from ret_res\n",
    "sents = [(tone['tone_id'], tone['score']) for tone in ret_res['document_tone']['tones']]\n",
    "\n",
    "## Create copy of sentiment_vector_zeroed to have zeroed values\n",
    "# for each of the sentiments found from Tone Analyzer, set the corresponding value into our sentiment vector\n",
    "sents_vector = sentiment_vector_zeroed\n",
    "for tone in sents:\n",
    "    tone_id = tone[0]\n",
    "    tone_score = float(tone[1])\n",
    "    sents_vector[tone_id] = tone_score\n",
    "    \n",
    "sents_vector"
   ]
  },
  {
   "cell_type": "code",
   "execution_count": null,
   "metadata": {},
   "outputs": [],
   "source": []
  },
  {
   "cell_type": "code",
   "execution_count": null,
   "metadata": {},
   "outputs": [],
   "source": []
  }
 ],
 "metadata": {
  "kernelspec": {
   "display_name": "Python 3",
   "language": "python",
   "name": "python3"
  },
  "language_info": {
   "codemirror_mode": {
    "name": "ipython",
    "version": 3
   },
   "file_extension": ".py",
   "mimetype": "text/x-python",
   "name": "python",
   "nbconvert_exporter": "python",
   "pygments_lexer": "ipython3",
   "version": "3.7.3"
  }
 },
 "nbformat": 4,
 "nbformat_minor": 2
}
