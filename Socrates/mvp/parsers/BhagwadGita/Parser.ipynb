{
 "cells": [
  {
   "cell_type": "markdown",
   "metadata": {},
   "source": [
    "I will be doing it in the way Justin is working."
   ]
  },
  {
   "cell_type": "code",
   "execution_count": 98,
   "metadata": {},
   "outputs": [],
   "source": [
    "import re\n",
    "#Reading the file\n",
    "file = open(\"Bhagvad_Gita_Sir_Edwin.txt\")\n",
    "text = file.read() #Thus we put all this in the RAM."
   ]
  },
  {
   "cell_type": "code",
   "execution_count": 99,
   "metadata": {},
   "outputs": [
    {
     "name": "stdout",
     "output_type": "stream",
     "text": [
      "18\n"
     ]
    }
   ],
   "source": [
    "list_of_chapters = text.split(\"\\nCHAPTER\")[1].split(\"  CHAPTER\") #Splitting the content by the chapters.\n",
    "print(len(list_of_chapters))"
   ]
  },
  {
   "cell_type": "markdown",
   "metadata": {},
   "source": [
    "For the proof of concept, lets split the first chapter on Sanjaya and Dhritirashtra. Takes RAM, so we will do this for testing."
   ]
  },
  {
   "cell_type": "code",
   "execution_count": 100,
   "metadata": {},
   "outputs": [
    {
     "name": "stdout",
     "output_type": "stream",
     "text": [
      "\n"
     ]
    }
   ],
   "source": [
    "# speeches_first = re.split('Dhritirashtra:|Sanjaya:', list_of_chapters[0])\n",
    "# who_spoke = re.findall('Dhritirashtra:|Sanjaya:', list_of_chapters[0]) # We can map question of Lord Arjun to \n",
    "#answers of Lord Krishna\n",
    "# print(speeches_first) #works\n",
    "# print(who_spoke)\n",
    "# Now we do not need the first chapter\n",
    "list_of_chapters.pop(0)\n",
    "print(\"\")"
   ]
  },
  {
   "cell_type": "markdown",
   "metadata": {},
   "source": [
    "Now we shall using the content:"
   ]
  },
  {
   "cell_type": "code",
   "execution_count": 101,
   "metadata": {},
   "outputs": [],
   "source": [
    "#print(list_of_chapters[0])\n",
    "chapter_dialogs = [re.split('Dhritirashtra\\.|Sanjaya\\.|Arjuna\\.|Krishna\\.', chapter) for chapter in list_of_chapters]\n",
    "for chapter_dialog in chapter_dialogs:\n",
    "    chapter_dialog.pop(0) # Taking out the name of the chapter?\n",
    "chapter_speaker_order = [re.findall('Dhritirashtra\\.|Sanjaya\\.|Arjuna\\.|Krishna\\.', chapter) for chapter in list_of_chapters]"
   ]
  },
  {
   "cell_type": "markdown",
   "metadata": {},
   "source": [
    "Now we want to map all the question from the Arjun to the chapter it was in."
   ]
  },
  {
   "cell_type": "code",
   "execution_count": 102,
   "metadata": {},
   "outputs": [],
   "source": [
    "list_of_questions_by_chapter = [[chapter_dialogs[chapter_index][monologue_index] for monologue_index \\\n",
    "                                    in range(len(chapter_dialogs[chapter_index])) \\\n",
    "                                    if chapter_speaker_order[chapter_index][monologue_index] == \"Arjuna.\"] \\\n",
    "                                    for chapter_index in range(len(chapter_dialogs))]\n",
    "map_to_chapters = {}\n",
    "for i in range(1, len(chapter_dialogs)+1):\n",
    "    map_to_chapters[i] = list_of_questions_by_chapter[i-1]\n",
    "    "
   ]
  },
  {
   "cell_type": "code",
   "execution_count": 103,
   "metadata": {},
   "outputs": [
    {
     "data": {
      "text/plain": [
       "[\"\\n  How can I, in the battle, shoot with shafts\\n  On Bhishma, or on Drona-O thou Chief!--\\n  Both worshipful, both honourable men?\\n\\n  Better to live on beggar's bread\\n    With those we love alive,\\n  Than taste their blood in rich feasts spread,\\n    And guiltily survive!\\n  Ah! were it worse-who knows?--to be\\n    Victor or vanquished here,\\n  When those confront us angrily\\n    Whose death leaves living drear?\\n  In pity lost, by doubtings tossed,\\n    My thoughts-distracted-turn\\n  To Thee, the Guide I reverence most,\\n    That I may counsel learn:\\n  I know not what would heal the grief\\n    Burned into soul and sense,\\n  If I were earth's unchallenged chief--\\n    A god--and these gone thence!\\n\\n  \",\n",
       " '\\n  What is his mark who hath that steadfast heart,\\n  Confirmed in holy meditation? How\\n  Know we his speech, Kesava? Sits he, moves he\\n  Like other men?\\n\\n  ']"
      ]
     },
     "execution_count": 103,
     "metadata": {},
     "output_type": "execute_result"
    }
   ],
   "source": [
    "map_to_chapters[1]"
   ]
  },
  {
   "cell_type": "markdown",
   "metadata": {},
   "source": [
    "# Idea for basic Manipulation:"
   ]
  },
  {
   "cell_type": "markdown",
   "metadata": {},
   "source": [
    "Words such as \"whence\" and \"thy\" must be replaced. Very ostensiable this is."
   ]
  },
  {
   "cell_type": "code",
   "execution_count": 104,
   "metadata": {},
   "outputs": [],
   "source": [
    "for key in map_to_chapters:\n",
    "    for question in map_to_chapters[key]:\n",
    "        question = question.replace(\"whence\", \"since when\").replace(\"thy\", \"your\")"
   ]
  },
  {
   "cell_type": "code",
   "execution_count": 105,
   "metadata": {},
   "outputs": [
    {
     "data": {
      "text/plain": [
       "[\"\\n  How can I, in the battle, shoot with shafts\\n  On Bhishma, or on Drona-O thou Chief!--\\n  Both worshipful, both honourable men?\\n\\n  Better to live on beggar's bread\\n    With those we love alive,\\n  Than taste their blood in rich feasts spread,\\n    And guiltily survive!\\n  Ah! were it worse-who knows?--to be\\n    Victor or vanquished here,\\n  When those confront us angrily\\n    Whose death leaves living drear?\\n  In pity lost, by doubtings tossed,\\n    My thoughts-distracted-turn\\n  To Thee, the Guide I reverence most,\\n    That I may counsel learn:\\n  I know not what would heal the grief\\n    Burned into soul and sense,\\n  If I were earth's unchallenged chief--\\n    A god--and these gone thence!\\n\\n  \",\n",
       " '\\n  What is his mark who hath that steadfast heart,\\n  Confirmed in holy meditation? How\\n  Know we his speech, Kesava? Sits he, moves he\\n  Like other men?\\n\\n  ']"
      ]
     },
     "execution_count": 105,
     "metadata": {},
     "output_type": "execute_result"
    }
   ],
   "source": [
    "map_to_chapters[1]"
   ]
  },
  {
   "cell_type": "markdown",
   "metadata": {},
   "source": [
    "# Writing the Questions into a file"
   ]
  },
  {
   "cell_type": "code",
   "execution_count": 125,
   "metadata": {},
   "outputs": [],
   "source": [
    "question_file = open(\"questions_file.txt\", \"w+\")"
   ]
  },
  {
   "cell_type": "code",
   "execution_count": 126,
   "metadata": {},
   "outputs": [],
   "source": [
    "seperator = \"\\n\\n\\n\\n\\n\\n\"\n",
    "for key in map_to_chapters:\n",
    "    question_file.write(\"This is Chapter \" + str(key) + seperator)\n",
    "    for question in map_to_chapters[key]:\n",
    "        question_file.write(question + seperator)\n",
    "        "
   ]
  },
  {
   "cell_type": "code",
   "execution_count": 127,
   "metadata": {},
   "outputs": [
    {
     "name": "stdout",
     "output_type": "stream",
     "text": [
      "['\\n  Now would I hear, O gracious Kesava![FN#26]\\n  Of Life which seems, and Soul beyond, which sees,\\n  And what it is we know-or think to know.\\n\\n  ']\n"
     ]
    }
   ],
   "source": [
    "print(map_to_chapters[12])"
   ]
  },
  {
   "cell_type": "code",
   "execution_count": 128,
   "metadata": {},
   "outputs": [],
   "source": [
    "question_file1 = open(\"questions_file.txt\")\n",
    "for key in range(11, 18):\n",
    "    for question in map_to_chapters[key]:\n",
    "        question_file.write(question + seperator)"
   ]
  },
  {
   "cell_type": "code",
   "execution_count": null,
   "metadata": {},
   "outputs": [],
   "source": []
  }
 ],
 "metadata": {
  "kernelspec": {
   "display_name": "Python 3",
   "language": "python",
   "name": "python3"
  },
  "language_info": {
   "codemirror_mode": {
    "name": "ipython",
    "version": 3
   },
   "file_extension": ".py",
   "mimetype": "text/x-python",
   "name": "python",
   "nbconvert_exporter": "python",
   "pygments_lexer": "ipython3",
   "version": "3.6.3"
  }
 },
 "nbformat": 4,
 "nbformat_minor": 2
}
